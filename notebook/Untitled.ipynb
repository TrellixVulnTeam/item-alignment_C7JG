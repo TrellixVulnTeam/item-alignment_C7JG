{
 "cells": [
  {
   "cell_type": "code",
   "execution_count": 181,
   "metadata": {},
   "outputs": [],
   "source": [
    "import json\n",
    "import re\n",
    "import os\n",
    "import jieba\n",
    "import copy\n",
    "import glob\n",
    "import numpy as np\n",
    "import random\n",
    "import pandas as pd\n",
    "import torch\n",
    "import time\n",
    "from PIL import Image"
   ]
  },
  {
   "cell_type": "code",
   "execution_count": 2,
   "metadata": {},
   "outputs": [
    {
     "name": "stderr",
     "output_type": "stream",
     "text": [
      "YOLOv5 🚀 2022-7-28 Python-3.7.4 torch-1.11.0 CPU\n",
      "\n",
      "Fusing layers... \n",
      "YOLOv5x6 summary: 574 layers, 140730220 parameters, 0 gradients\n",
      "Adding AutoShape... \n"
     ]
    }
   ],
   "source": [
    "# path = 'ultralytics/yolov5'\n",
    "code_path = \"/Users/zeyesun/Documents/Code/ultralytics_yolov5\"\n",
    "model_path = \"/Users/zeyesun/Documents/Data/cv/yolov5x6.pt\"\n",
    "model = torch.hub.load(code_path, 'yolov5x6', model_path=model_path, pretrained=True, source='local')"
   ]
  },
  {
   "cell_type": "code",
   "execution_count": 211,
   "metadata": {},
   "outputs": [
    {
     "data": {
      "text/plain": [
       "54"
      ]
     },
     "execution_count": 211,
     "metadata": {},
     "output_type": "execute_result"
    }
   ],
   "source": [
    "a = {'手机保护套/壳': [1705, {'消费电子'}],\n",
    " '手机': [1245, {'消费电子'}],\n",
    " '麦克风/话筒': [988, {'消费电子'}],\n",
    " '空调': [871, {'消费电子'}],\n",
    " '破壁机': [870, {'消费电子'}],\n",
    " '微波炉': [854, {'消费电子'}],\n",
    " '电烤箱': [795, {'消费电子'}],\n",
    " '手机支架/手机座': [786, {'消费电子'}],\n",
    " '剃须刀': [737, {'消费电子'}],\n",
    " '单反镜头': [727, {'消费电子'}],\n",
    " '游戏电竞头戴耳机': [725, {'消费电子'}],\n",
    " '咖啡机': [703, {'消费电子'}],\n",
    " '净水器': [699, {'消费电子'}],\n",
    " '电子美容仪': [654, {'消费电子'}],\n",
    " '电吹风': [641, {'消费电子'}],\n",
    " '电磁炉/陶炉': [598, {'消费电子'}],\n",
    " '电动牙刷': [566, {'消费电子', '美妆洗护'}],\n",
    " '智能儿童手表': [555, {'消费电子'}],\n",
    " '笔记本电脑': [510, {'消费电子'}],\n",
    " '显示器': [486, {'消费电子'}],\n",
    " '超声波迷你清洗机': [480, {'消费电子'}],\n",
    " '油烟机': [456, {'消费电子'}],\n",
    " '饮水机': [450, {'消费电子'}],\n",
    " '洗地机': [393, {'消费电子'}],\n",
    " '加湿器': [387, {'消费电子'}],\n",
    " '颈椎/腰椎按摩器': [384, {'消费电子'}],\n",
    " 'KTV/卡拉OK音箱': [373, {'消费电子'}],\n",
    " '智能手表': [372, {'消费电子'}],\n",
    " '茶吧机/泡茶机': [365, {'消费电子'}],\n",
    " '智能音箱': [327, {'消费电子'}],\n",
    " '电热水壶': [321, {'消费电子'}],\n",
    " '空气炸锅': [318, {'消费电子'}],\n",
    " '保温碟/暖菜板/暖杯垫': [285, {'消费电子'}],\n",
    " '普通路由器': [276, {'消费电子'}],\n",
    " '智能手环': [269, {'消费电子'}],\n",
    " '键盘': [260, {'消费电子'}],\n",
    " '电热毯/水暖毯': [251, {'消费电子'}],\n",
    " '除螨仪': [243, {'消费电子'}],\n",
    " '养生壶/煎药壶': [239, {'消费电子'}],\n",
    " '女士脱毛/剃毛器': [237, {'消费电子'}],\n",
    " '空气净化器': [209, {'消费电子'}],\n",
    " 'DIY兼容机': [191, {'消费电子'}],\n",
    " '显卡': [153, {'消费电子'}],\n",
    " '电热毯/电热垫/电热地毯': [149, {'消费电子'}],\n",
    " '足浴器': [144, {'消费电子'}],\n",
    " '洗烘套装': [144, {'消费电子'}],\n",
    " '内存': [81, {'消费电子'}],\n",
    " '保温碟/暖菜板/暖杯垫/暖桌垫': [76, {'消费电子'}],\n",
    " '颈椎按摩器/枕': [59, {'消费电子'}],\n",
    " '专业数码单反': [55, {'消费电子'}],\n",
    " '蓝牙耳机': [10, {'消费电子'}],\n",
    " '整理架/置物架/收纳架': [2, {'大百货', '消费电子'}],\n",
    " '洗衣机': [2, {'消费电子'}],\n",
    " '拉杆广场音箱/户外音响': [1, {'消费电子'}]}\n",
    "len(a)"
   ]
  },
  {
   "cell_type": "code",
   "execution_count": 223,
   "metadata": {},
   "outputs": [
    {
     "data": {
      "text/plain": [
       "18"
      ]
     },
     "execution_count": 223,
     "metadata": {},
     "output_type": "execute_result"
    }
   ],
   "source": [
    "a = {'速溶咖啡': [1262, {'食品'}],\n",
    " '螺蛳粉': [1046, {'食品'}],\n",
    " '植物蛋白饮料/植物奶/植物酸奶': [777, {'食品'}],\n",
    " '酥性饼干': [630, {'食品'}],\n",
    " '啤酒': [562, {'食品'}],\n",
    " '混合坚果': [502, {'食品'}],\n",
    " '果酒': [437, {'食品'}],\n",
    " '咖啡豆': [381, {'食品'}],\n",
    " '牛奶巧克力': [285, {'食品'}],\n",
    " '驼奶及驼奶粉': [253, {'食品'}],\n",
    " '传统黄酒': [201, {'食品'}],\n",
    " '自热火锅': [199, {'食品'}],\n",
    " '天然粉粉食品': [164, {'食品'}],\n",
    " '金骏眉': [146, {'食品'}],\n",
    " '芝士新': [144, {'食品'}],\n",
    " '面条/挂面（无料包）': [1, {'食品'}],\n",
    " '膨化食品': [1, {'食品'}],\n",
    " '自热米饭': [1, {'食品'}]}\n",
    "len(a)"
   ]
  },
  {
   "cell_type": "code",
   "execution_count": 216,
   "metadata": {},
   "outputs": [],
   "source": [
    "cs = [c.split(\"/\")[-1].replace(\"-\", \"/\") for c in glob.glob(os.path.join(root_dir, \"output\", \"yolov5x6\", \"object_detection\", \"*\"))]"
   ]
  },
  {
   "cell_type": "code",
   "execution_count": 224,
   "metadata": {},
   "outputs": [],
   "source": [
    "aa = [key for key, _ in a.items() if key in cs]  "
   ]
  },
  {
   "cell_type": "code",
   "execution_count": null,
   "metadata": {},
   "outputs": [],
   "source": []
  },
  {
   "cell_type": "code",
   "execution_count": 196,
   "metadata": {},
   "outputs": [],
   "source": [
    "root_dir = \"/Users/zeyesun/Documents/Data/ccks2022/task9_商品同款\""
   ]
  },
  {
   "cell_type": "code",
   "execution_count": 198,
   "metadata": {},
   "outputs": [
    {
     "data": {
      "text/plain": [
       "179"
      ]
     },
     "execution_count": 198,
     "metadata": {},
     "output_type": "execute_result"
    }
   ],
   "source": [
    "len(cate_ct)"
   ]
  },
  {
   "cell_type": "code",
   "execution_count": 195,
   "metadata": {},
   "outputs": [
    {
     "data": {
      "text/plain": [
       "{'消费电子': 23675, '大服饰': 22767, '大百货': 17468, '美妆洗护': 12183, '食品': 6992}"
      ]
     },
     "execution_count": 195,
     "metadata": {},
     "output_type": "execute_result"
    }
   ],
   "source": [
    "{k: v for k, v in sorted(industry_ct.items(), key=lambda item: item[1], reverse=True)}"
   ]
  },
  {
   "cell_type": "code",
   "execution_count": 200,
   "metadata": {},
   "outputs": [
    {
     "data": {
      "text/plain": [
       "{'护手霜': [1374, {'美妆洗护'}],\n",
       " '贴片面膜': [1206, {'美妆洗护'}],\n",
       " '隔离/妆前': [864, {'美妆洗护'}],\n",
       " '裤型卫生巾': [803, {'美妆洗护'}],\n",
       " '洗发水': [789, {'美妆洗护'}],\n",
       " '美甲工具': [757, {'美妆洗护'}],\n",
       " '润唇膏': [638, {'美妆洗护'}],\n",
       " '男士面部乳霜': [630, {'美妆洗护'}],\n",
       " '电动牙刷': [566, {'消费电子', '美妆洗护'}],\n",
       " '洗护套装': [549, {'美妆洗护'}],\n",
       " '涂抹面膜': [509, {'美妆洗护'}],\n",
       " '化妆刷': [493, {'美妆洗护'}],\n",
       " '彩妆套装': [422, {'美妆洗护'}],\n",
       " '身体乳/霜': [414, {'美妆洗护'}],\n",
       " '眼霜': [390, {'美妆洗护'}],\n",
       " '指甲彩妆': [366, {'美妆洗护'}],\n",
       " '高光': [352, {'美妆洗护'}],\n",
       " '私处保养': [349, {'美妆洗护'}],\n",
       " '浴足剂': [343, {'美妆洗护'}],\n",
       " '脱毛膏': [221, {'美妆洗护'}],\n",
       " '假睫毛': [209, {'美妆洗护'}],\n",
       " '男士护理套装': [187, {'美妆洗护'}],\n",
       " '洗衣凝珠': [178, {'美妆洗护'}],\n",
       " '棉柔巾/洗脸巾': [130, {'美妆洗护'}],\n",
       " '面部护理套装': [6, {'美妆洗护'}],\n",
       " '身体乳液': [2, {'美妆洗护'}],\n",
       " '湿巾': [1, {'美妆洗护'}]}"
      ]
     },
     "execution_count": 200,
     "metadata": {},
     "output_type": "execute_result"
    }
   ],
   "source": [
    "{k: v for k, v in sorted(cate_ct.items(), key=lambda item: item[1][0], reverse=True) if \"美妆洗护\" in v[1]}"
   ]
  },
  {
   "cell_type": "code",
   "execution_count": 197,
   "metadata": {},
   "outputs": [
    {
     "name": "stdout",
     "output_type": "stream",
     "text": [
      "Finished loading item info, size: 83085\n"
     ]
    }
   ],
   "source": [
    "cur_cate_name = \"中老年女装\"\n",
    "# \n",
    "id2image_name = dict()\n",
    "industry_ct = dict()\n",
    "cate_ct = dict()\n",
    "duplicates = dict()\n",
    "with open(os.path.join(root_dir, \"raw\", \"item_info.jsonl\"), \"r\", encoding=\"utf-8\") as r:\n",
    "#     ct = 0\n",
    "    while True:\n",
    "        line = r.readline()\n",
    "        if not line:\n",
    "            break\n",
    "        d = json.loads(line.strip())\n",
    "        industry_name = d['industry_name']\n",
    "        cate_name = d['cate_name']\n",
    "        item_id = d['item_id']\n",
    "#         if cate_name != cur_cate_name:\n",
    "#             continue\n",
    "        id2image_name[item_id] = d#['item_image_name']\n",
    "        if industry_name not in industry_ct:\n",
    "            industry_ct[industry_name] = 0\n",
    "        industry_ct[industry_name] += 1\n",
    "        if cate_name not in cate_ct:\n",
    "            cate_ct[cate_name] = [0, set()]\n",
    "        cate_ct[cate_name][0] += 1\n",
    "        cate_ct[cate_name][1].add(industry_name)\n",
    "#         ct += 1\n",
    "print(f\"Finished loading item info, size: {len(id2image_name)}\")"
   ]
  },
  {
   "cell_type": "code",
   "execution_count": 192,
   "metadata": {},
   "outputs": [
    {
     "name": "stdout",
     "output_type": "stream",
     "text": [
      "Finished loading pair data, size: 727\n"
     ]
    }
   ],
   "source": [
    "data = []\n",
    "files = [\"item_valid_pair.jsonl\", \"item_train_pair.jsonl\"]\n",
    "for f in files:\n",
    "    with open(os.path.join(root_dir, \"raw\", f), \"r\", encoding=\"utf-8\") as r:\n",
    "    #     ct = 0\n",
    "        while True:\n",
    "            line = r.readline()\n",
    "            if not line:\n",
    "                break\n",
    "            d = json.loads(line.strip())\n",
    "            if d['src_item_id'] not in id2image_name or d['tgt_item_id'] not in id2image_name:\n",
    "                continue\n",
    "            data.append(d)\n",
    "print(f\"Finished loading pair data, size: {len(data)}\")"
   ]
  },
  {
   "cell_type": "code",
   "execution_count": 193,
   "metadata": {},
   "outputs": [
    {
     "name": "stdout",
     "output_type": "stream",
     "text": [
      "time taken: 54.83933687210083 s\n"
     ]
    },
    {
     "name": "stderr",
     "output_type": "stream",
     "text": [
      "Saved 20 images to \u001b[1m/Users/zeyesun/Documents/Data/ccks2022/task9_商品同款/output/yolov5x6\u001b[0m\n"
     ]
    }
   ],
   "source": [
    "image_dir = os.path.join(root_dir, \"raw\", \"item_images\")\n",
    "imgs = []\n",
    "for i in random.sample(range(0, len(data)), min(10, len(data))):\n",
    "    imgs.append(os.path.join(image_dir, id2image_name[data[i]['src_item_id']]['item_image_name']))\n",
    "    imgs.append(os.path.join(image_dir, id2image_name[data[i]['tgt_item_id']]['item_image_name']))\n",
    "t1 = time.time()\n",
    "results = model(imgs)\n",
    "print(f\"time taken: {time.time()-t1} s\")\n",
    "output_path = f\"/Users/zeyesun/Documents/Data/ccks2022/task9_商品同款/output/yolov5x6/{cur_cate_name}\"\n",
    "os.mkdir(output_path)\n",
    "results.save(save_dir=output_path)"
   ]
  },
  {
   "cell_type": "code",
   "execution_count": 121,
   "metadata": {},
   "outputs": [],
   "source": [
    "i = 1\n",
    "j = 2\n",
    "idx = results.pred[i][j][-1]\n",
    "print(results.names[int(idx)])\n",
    "box = results.pred[i][j][:4]\n",
    "h, w, _ = results.imgs[i].shape\n",
    "box_h = np.abs(box[3] - box[1])\n",
    "box_w = np.abs(box[2] - box[0])\n",
    "ratio = (box_h*box_w) / (h*w)\n",
    "print(ratio)"
   ]
  },
  {
   "cell_type": "code",
   "execution_count": 130,
   "metadata": {},
   "outputs": [
    {
     "data": {
      "text/plain": [
       "['person',\n",
       " 'bicycle',\n",
       " 'car',\n",
       " 'motorcycle',\n",
       " 'airplane',\n",
       " 'bus',\n",
       " 'train',\n",
       " 'truck',\n",
       " 'boat',\n",
       " 'traffic light',\n",
       " 'fire hydrant',\n",
       " 'stop sign',\n",
       " 'parking meter',\n",
       " 'bench',\n",
       " 'bird',\n",
       " 'cat',\n",
       " 'dog',\n",
       " 'horse',\n",
       " 'sheep',\n",
       " 'cow',\n",
       " 'elephant',\n",
       " 'bear',\n",
       " 'zebra',\n",
       " 'giraffe',\n",
       " 'backpack',\n",
       " 'umbrella',\n",
       " 'handbag',\n",
       " 'tie',\n",
       " 'suitcase',\n",
       " 'frisbee',\n",
       " 'skis',\n",
       " 'snowboard',\n",
       " 'sports ball',\n",
       " 'kite',\n",
       " 'baseball bat',\n",
       " 'baseball glove',\n",
       " 'skateboard',\n",
       " 'surfboard',\n",
       " 'tennis racket',\n",
       " 'bottle',\n",
       " 'wine glass',\n",
       " 'cup',\n",
       " 'fork',\n",
       " 'knife',\n",
       " 'spoon',\n",
       " 'bowl',\n",
       " 'banana',\n",
       " 'apple',\n",
       " 'sandwich',\n",
       " 'orange',\n",
       " 'broccoli',\n",
       " 'carrot',\n",
       " 'hot dog',\n",
       " 'pizza',\n",
       " 'donut',\n",
       " 'cake',\n",
       " 'chair',\n",
       " 'couch',\n",
       " 'potted plant',\n",
       " 'bed',\n",
       " 'dining table',\n",
       " 'toilet',\n",
       " 'tv',\n",
       " 'laptop',\n",
       " 'mouse',\n",
       " 'remote',\n",
       " 'keyboard',\n",
       " 'cell phone',\n",
       " 'microwave',\n",
       " 'oven',\n",
       " 'toaster',\n",
       " 'sink',\n",
       " 'refrigerator',\n",
       " 'book',\n",
       " 'clock',\n",
       " 'vase',\n",
       " 'scissors',\n",
       " 'teddy bear',\n",
       " 'hair drier',\n",
       " 'toothbrush']"
      ]
     },
     "execution_count": 130,
     "metadata": {},
     "output_type": "execute_result"
    }
   ],
   "source": [
    "results.names"
   ]
  },
  {
   "cell_type": "code",
   "execution_count": 226,
   "metadata": {},
   "outputs": [
    {
     "data": {
      "text/plain": [
       "37"
      ]
     },
     "execution_count": 226,
     "metadata": {},
     "output_type": "execute_result"
    }
   ],
   "source": [
    "res = {\n",
    "\"KTV/卡拉OK音箱\": [\"tv\"],\n",
    "\"DIY兼容机\": [\"microwave\", \"traffic light\"],\n",
    "\"自热火锅\": [\"bowl\"],\n",
    "\"智能手环\": [\"cell phone\"],\n",
    "\"智能手表\": [\"cell phone\"],\n",
    "\"智能儿童手表\": [\"cell phone\"],\n",
    "\"茶生壶/煎药壶\":[\"cup\"],\n",
    "\"显示器\":[\"tv\"],\n",
    "\"微波炉\": [\"micro wave\"],\n",
    "\"手机保护套/壳\": [\"cell phone\"],\n",
    "\"手机\": [\"cell phone\"],\n",
    "\"瑞士腕表\": [\"clock\"],\n",
    "\"女士脱毛/剃毛器\": [\"cell phone\",  \"toothbrush\", \"vase\", \"tennis racket\"],\n",
    "\"空气炸锅\": [\"oven\", \"cell phone\"],\n",
    "\"麦克风/话筒\": [\"toothbrush\", \"parking meter\"],\n",
    "\"空气净化器\":[\"refrigerator\", \"cup\"],\n",
    "\"空调\":[\"vase\", \"cell phone\",  \"tv\",  \"microwave\"],\n",
    "\"净水器\": [\"bottle\"],\n",
    "\"颈椎/腰椎按摩器\":[\"traffic light\"],\n",
    "\"颈椎按摩器\": [\"scissors\", \"mouse\", \"traffic light\",  \"handbag\"],\n",
    "\"键盘\": [\"keyboard\"],\n",
    "\"加湿器\": [\"vase\", \"refrigerator\",  \"cup\", \"cell phone\"],\n",
    "\"国产腕表\":[\"clock\"],\n",
    "\"电子美容仪\": [\"vase\", \"hair drier\", \"scissors\", \"toothbrush\",  \"cell phone\"],\n",
    "\"电热水壶\": [\"cup\", \"microwave\", \"refrigerator\"],\n",
    "\"电烤箱\": [\"microwave\",  \"oven\"],\n",
    "\"电动自行车\": [\"bicycle\",  \"motorcycle\"],\n",
    "\"电动牙刷\": [\"toothbrush\"],\n",
    "\"电磁炉/掏炉\":[\"cell phone\",  \"toaster\", \"oven\"],\n",
    "\"电吹风\": [\"hair drier\", \"motorcycle\"],\n",
    "\"单反镜头\": [\"microwave\" ,\"bottle\", \"cell phone\",  \"book\"],\n",
    "\"除螨仪\": [\"mouse\", \"cell phone\"],\n",
    "\"炒锅\": [\"bowl\"],\n",
    "\"超声波迷你清洗机\":[\"cup\"],\n",
    "\"笔记本电脑\": [\"laptop\"],\n",
    "\"啤酒\":[\"bottle\"],\n",
    "\"剃须刀\": [\"parking meter\", \"mouse\", \"remote\"]\n",
    "}\n",
    "len(res)"
   ]
  },
  {
   "cell_type": "code",
   "execution_count": 227,
   "metadata": {},
   "outputs": [
    {
     "data": {
      "text/plain": [
       "96"
      ]
     },
     "execution_count": 227,
     "metadata": {},
     "output_type": "execute_result"
    }
   ],
   "source": [
    "b = {\"手机保护套/壳\": [\"cell phone\"], \"手机\": [\"cell phone\"], \"空调\": [\"cell phone\", \"refrigerator\", \"vase\"],\n",
    "                   \"微波炉\": [\"microwave\"], \"电烤箱\": [\"microwave\"], \"剃须刀\": [\"parking meter\", \"mouse\", \"remote\"],\n",
    "                   \"专业数码单反\": [\"cell phone\", \"truck\"], \"洗烘套装\": [\"cell phone\", \"oven\", \"traffic light\"], \"养生壶/煎药壶\": [\"cup\"],\n",
    "                   \"电热毯/电热垫/电热地毯\": [\"bed\", \"suitcase\", \"tie\", \"handbag\"], '电热毯/水暖毯': [\"bed\"], \"智能音箱\": [\"cell phone\", \"sports ball\", \"laptop\", \"vase\", \"bottle\"],\n",
    "                   \"茶吧机/泡茶机\": [\"refrigerator\", \"oven\"], \"洗地机\": [\"truck\", \"toaster\"], \"饮水机\": [\"refrigerator\", \"cell phone\", \"parking meter\", \"laptop\", \"microwave\"],\n",
    "                   \"电磁炉/陶炉\": [\"cell phone\", \"oven\", \"toaster\"], \"游戏电竞头戴耳机\": [\"scissors\", \"cup\", \"airplane\", \"truck\"],\n",
    "                   \"休闲裤\": [\"person\"], \"毛衣\": [\"person\"], \"帽子\": [\"person\", \"kite\"], \"马丁靴\": [\"person\", \"handbag\", \"suitcase\"],\n",
    "                   \"金骏眉\": [\"bowl\", \"dining table\"], \"传统黄酒\": [\"bottle\", \"vase\"], \"驼奶及驼奶粉\": [\"book\", \"cup\", \"refrigerator\", \"bottle\"],\n",
    "                   \"果酒\": [\"bottle\"], \"速溶咖啡\": [\"bottle\", \"book\"],\n",
    "                   # \"休闲板鞋\": [\"suitcase\"],\n",
    "                   \"牛仔裤\": [\"person\", \"tie\", \"handbag\", \"suitcase\"], \"休闲运动套装\": [\"person\", \"bed\"], \"中老年女装\": [\"person\", \"vase\"],\n",
    "                   \"半身裙\": [\"person\", \"umbrella\"], \"男士包袋\": [\"suitcase\", \"handbag\"], \"休闲皮鞋\": ['handbag', 'person'],\n",
    "                   \"时尚套装\": [\"person\"], \"蕾丝衫/雪纺衫\": [\"person\", \"bed\"], \"时尚休闲鞋\": [\"cake\", \"person\"], \"双肩背包\": [\"backpack\", \"suitcase\", \"handbag\"],\n",
    "                   \"毛针织衫\": [\"person\", \"tie\"], \"围巾/丝巾/披肩\": [\"tie\", \"person\"], \"旗袍\": [\"person\"], \"大码女装\": ['person'],\n",
    "                   \"板鞋\": [\"handbag\", \"suitcase\", \"cake\", \"surfboard\", \"skateboard\"], \"卫裤\": [\"person\", \"handbag\"], \"瑞士腕表\": [\"clock\", \"motorcycle\"],\n",
    "                   \"国产腕表\": [\"clock\"], \"衬衫\": ['person'], \"颈饰\": [\"person\", \"cake\", \"vase\", \"sports ball\", \"bottle\", \"cup\"],\n",
    "                   \"投资贵金属\": [\"clock\", \"frisbee\", \"teddy bear\", \"horse\", \"vase\"], \"背心吊带\": [\"person\", \"cake\"], \"日韩腕表\": [\"clock\"],\n",
    "                   \"钱包\": [\"suitcase\", \"cell phone\", \"handbag\"], \"电动自行车\": [\"bicycle\", \"motorcycle\"], \"餐桌\": [\"dining table\"],\n",
    "                   \"收纳箱\": [\"suitcase\", \"vase\", \"refrigerator\", \"oven\", \"surfboard\", \"tv\"], \"碗\": [\"bowl\", \"cup\"], \"炒锅\": [\"bowl\"],\n",
    "                   \"鲜花速递(同城)\": [\"potted plant\"], \"仓储货架\": [\"bench\", \"bed\"], \"垃圾桶\": [\"cup\", \"toilet\", \"refrigerator\"],\n",
    "                   \"电脑椅\": [\"chair\"], \"茶几\": [\"dining table\"], \"化纤被\": [\"bed\", \"person\"], \"茶道/零配\": [\"vase\", \"bottle\", \"bowl\", \"knife\"],\n",
    "                   \"智能车机导航\": [\"cell phone\", \"tv\", \"car\"], \"乳胶床垫\": [\"bed\", \"suitcase\", \"laptop\"], \"普通坐便器\": [\"toilet\", \"refrigerator\"],\n",
    "                   \"狗狗\": [\"dog\", \"teddy bear\"], \"乳胶枕\": [\"keyboard\", \"bed\", \"remote\", \"knife\", \"surfboard\", \"suitcase\", \"cake\"],\n",
    "                   \"弹簧床垫\": [\"bed\", \"keyboard\"], \"羽绒/羽毛被\": ['bed'], \"桌布\": [\"dining table\"], \"书桌\": [\"dining table\"],\n",
    "                   \"椰棕床垫\": [\"bed\", \"cake\", \"keyboard\"], \"电脑桌\": [\"dining table\"], \"茶壶\": [\"vase\", \"mouse\"], \"投影机\": [\"toaster\", \"microwave\", \"car\"],\n",
    "                   \"洗漱包\": [\"suitcase\"], \"摩托车整车\": [\"truck\", \"motorcycle\"], \"护手霜\": ['cup', 'book', \"bottle\", \"frisbee\", \"cell phonne\"],\n",
    "                   \"贴片面膜\": [\"book\", \"bottle\"], \"隔离/妆前\": [\"bottle\", \"toothbrush\", \"refrigerator\"], \"洗发水\": [\"bottle\"],\n",
    "                   \"美甲工具\": [\"person\", \"toothbrush\", \"baseball bat\"], \"润唇膏\": [\"cup\", \"bottle\"], \"男士面部乳霜\": [\"bottle\", \"cell phone\"],\n",
    "                   \"电动牙刷\": [\"toothbrush\"], \"洗护套装\": [\"bottle\", \"cup\"], \"涂抹面膜\": [\"cup\", \"book\", \"bottle\", \"vase\"],\n",
    "                   \"化妆刷\": [\"knife\", \"spoon\", \"baseball bat\", \"vase\", \"toothbrush\", \"scissors\", \"book\"], \"彩妆套装\": [\"suitcase\"],\n",
    "                   \"身体乳/霜\": [\"bottle\"], \"眼霜\": [\"cup\", \"book\", \"bottle\", \"vase\"], \"指甲彩妆\": [\"bottle\", \"person\"], \"私处保养\": [\"bottle\", \"vase\"],\n",
    "                   \"脱毛膏\": [\"bottle\", \"book\", \"cup\"], \"男士护理套装\": [\"bottle\", \"cell phone\", \"microwave\", \"refrigerator\"],\n",
    "                   \"棉柔巾\": [\"book\", \"remote\"],\n",
    "                   }\n",
    "len(b)"
   ]
  },
  {
   "cell_type": "code",
   "execution_count": 228,
   "metadata": {},
   "outputs": [],
   "source": [
    "b.update(res)"
   ]
  },
  {
   "cell_type": "code",
   "execution_count": 231,
   "metadata": {},
   "outputs": [
    {
     "data": {
      "text/plain": [
       "{'手机保护套/壳': ['cell phone'],\n",
       " '手机': ['cell phone'],\n",
       " '空调': ['vase', 'cell phone', 'tv', 'microwave'],\n",
       " '微波炉': ['micro wave'],\n",
       " '电烤箱': ['microwave', 'oven'],\n",
       " '剃须刀': ['parking meter', 'mouse', 'remote'],\n",
       " '专业数码单反': ['cell phone', 'truck'],\n",
       " '洗烘套装': ['cell phone', 'oven', 'traffic light'],\n",
       " '养生壶/煎药壶': ['cup'],\n",
       " '电热毯/电热垫/电热地毯': ['bed', 'suitcase', 'tie', 'handbag'],\n",
       " '电热毯/水暖毯': ['bed'],\n",
       " '智能音箱': ['cell phone', 'sports ball', 'laptop', 'vase', 'bottle'],\n",
       " '茶吧机/泡茶机': ['refrigerator', 'oven'],\n",
       " '洗地机': ['truck', 'toaster'],\n",
       " '饮水机': ['refrigerator', 'cell phone', 'parking meter', 'laptop', 'microwave'],\n",
       " '电磁炉/陶炉': ['cell phone', 'oven', 'toaster'],\n",
       " '游戏电竞头戴耳机': ['scissors', 'cup', 'airplane', 'truck'],\n",
       " '休闲裤': ['person'],\n",
       " '毛衣': ['person'],\n",
       " '帽子': ['person', 'kite'],\n",
       " '马丁靴': ['person', 'handbag', 'suitcase'],\n",
       " '金骏眉': ['bowl', 'dining table'],\n",
       " '传统黄酒': ['bottle', 'vase'],\n",
       " '驼奶及驼奶粉': ['book', 'cup', 'refrigerator', 'bottle'],\n",
       " '果酒': ['bottle'],\n",
       " '速溶咖啡': ['bottle', 'book'],\n",
       " '牛仔裤': ['person', 'tie', 'handbag', 'suitcase'],\n",
       " '休闲运动套装': ['person', 'bed'],\n",
       " '中老年女装': ['person', 'vase'],\n",
       " '半身裙': ['person', 'umbrella'],\n",
       " '男士包袋': ['suitcase', 'handbag'],\n",
       " '休闲皮鞋': ['handbag', 'person'],\n",
       " '时尚套装': ['person'],\n",
       " '蕾丝衫/雪纺衫': ['person', 'bed'],\n",
       " '时尚休闲鞋': ['cake', 'person'],\n",
       " '双肩背包': ['backpack', 'suitcase', 'handbag'],\n",
       " '毛针织衫': ['person', 'tie'],\n",
       " '围巾/丝巾/披肩': ['tie', 'person'],\n",
       " '旗袍': ['person'],\n",
       " '大码女装': ['person'],\n",
       " '板鞋': ['handbag', 'suitcase', 'cake', 'surfboard', 'skateboard'],\n",
       " '卫裤': ['person', 'handbag'],\n",
       " '瑞士腕表': ['clock'],\n",
       " '国产腕表': ['clock'],\n",
       " '衬衫': ['person'],\n",
       " '颈饰': ['person', 'cake', 'vase', 'sports ball', 'bottle', 'cup'],\n",
       " '投资贵金属': ['clock', 'frisbee', 'teddy bear', 'horse', 'vase'],\n",
       " '背心吊带': ['person', 'cake'],\n",
       " '日韩腕表': ['clock'],\n",
       " '钱包': ['suitcase', 'cell phone', 'handbag'],\n",
       " '电动自行车': ['bicycle', 'motorcycle'],\n",
       " '餐桌': ['dining table'],\n",
       " '收纳箱': ['suitcase', 'vase', 'refrigerator', 'oven', 'surfboard', 'tv'],\n",
       " '碗': ['bowl', 'cup'],\n",
       " '炒锅': ['bowl'],\n",
       " '鲜花速递(同城)': ['potted plant'],\n",
       " '仓储货架': ['bench', 'bed'],\n",
       " '垃圾桶': ['cup', 'toilet', 'refrigerator'],\n",
       " '电脑椅': ['chair'],\n",
       " '茶几': ['dining table'],\n",
       " '化纤被': ['bed', 'person'],\n",
       " '茶道/零配': ['vase', 'bottle', 'bowl', 'knife'],\n",
       " '智能车机导航': ['cell phone', 'tv', 'car'],\n",
       " '乳胶床垫': ['bed', 'suitcase', 'laptop'],\n",
       " '普通坐便器': ['toilet', 'refrigerator'],\n",
       " '狗狗': ['dog', 'teddy bear'],\n",
       " '乳胶枕': ['keyboard',\n",
       "  'bed',\n",
       "  'remote',\n",
       "  'knife',\n",
       "  'surfboard',\n",
       "  'suitcase',\n",
       "  'cake'],\n",
       " '弹簧床垫': ['bed', 'keyboard'],\n",
       " '羽绒/羽毛被': ['bed'],\n",
       " '桌布': ['dining table'],\n",
       " '书桌': ['dining table'],\n",
       " '椰棕床垫': ['bed', 'cake', 'keyboard'],\n",
       " '电脑桌': ['dining table'],\n",
       " '茶壶': ['vase', 'mouse'],\n",
       " '投影机': ['toaster', 'microwave', 'car'],\n",
       " '洗漱包': ['suitcase'],\n",
       " '摩托车整车': ['truck', 'motorcycle'],\n",
       " '护手霜': ['cup', 'book', 'bottle', 'frisbee', 'cell phonne'],\n",
       " '贴片面膜': ['book', 'bottle'],\n",
       " '隔离/妆前': ['bottle', 'toothbrush', 'refrigerator'],\n",
       " '洗发水': ['bottle'],\n",
       " '美甲工具': ['person', 'toothbrush', 'baseball bat'],\n",
       " '润唇膏': ['cup', 'bottle'],\n",
       " '男士面部乳霜': ['bottle', 'cell phone'],\n",
       " '电动牙刷': ['toothbrush'],\n",
       " '洗护套装': ['bottle', 'cup'],\n",
       " '涂抹面膜': ['cup', 'book', 'bottle', 'vase'],\n",
       " '化妆刷': ['knife',\n",
       "  'spoon',\n",
       "  'baseball bat',\n",
       "  'vase',\n",
       "  'toothbrush',\n",
       "  'scissors',\n",
       "  'book'],\n",
       " '彩妆套装': ['suitcase'],\n",
       " '身体乳/霜': ['bottle'],\n",
       " '眼霜': ['cup', 'book', 'bottle', 'vase'],\n",
       " '指甲彩妆': ['bottle', 'person'],\n",
       " '私处保养': ['bottle', 'vase'],\n",
       " '脱毛膏': ['bottle', 'book', 'cup'],\n",
       " '男士护理套装': ['bottle', 'cell phone', 'microwave', 'refrigerator'],\n",
       " '棉柔巾': ['book', 'remote'],\n",
       " 'KTV/卡拉OK音箱': ['tv'],\n",
       " 'DIY兼容机': ['microwave', 'traffic light'],\n",
       " '自热火锅': ['bowl'],\n",
       " '智能手环': ['cell phone'],\n",
       " '智能手表': ['cell phone'],\n",
       " '智能儿童手表': ['cell phone'],\n",
       " '茶生壶/煎药壶': ['cup'],\n",
       " '显示器': ['tv'],\n",
       " '女士脱毛/剃毛器': ['cell phone', 'toothbrush', 'vase', 'tennis racket'],\n",
       " '空气炸锅': ['oven', 'cell phone'],\n",
       " '麦克风/话筒': ['toothbrush', 'parking meter'],\n",
       " '空气净化器': ['refrigerator', 'cup'],\n",
       " '净水器': ['bottle'],\n",
       " '颈椎/腰椎按摩器': ['traffic light'],\n",
       " '颈椎按摩器': ['scissors', 'mouse', 'traffic light', 'handbag'],\n",
       " '键盘': ['keyboard'],\n",
       " '加湿器': ['vase', 'refrigerator', 'cup', 'cell phone'],\n",
       " '电子美容仪': ['vase', 'hair drier', 'scissors', 'toothbrush', 'cell phone'],\n",
       " '电热水壶': ['cup', 'microwave', 'refrigerator'],\n",
       " '电磁炉/掏炉': ['cell phone', 'toaster', 'oven'],\n",
       " '电吹风': ['hair drier', 'motorcycle'],\n",
       " '单反镜头': ['microwave', 'bottle', 'cell phone', 'book'],\n",
       " '除螨仪': ['mouse', 'cell phone'],\n",
       " '超声波迷你清洗机': ['cup'],\n",
       " '笔记本电脑': ['laptop'],\n",
       " '啤酒': ['bottle']}"
      ]
     },
     "execution_count": 231,
     "metadata": {},
     "output_type": "execute_result"
    }
   ],
   "source": [
    "b"
   ]
  },
  {
   "cell_type": "code",
   "execution_count": 230,
   "metadata": {},
   "outputs": [
    {
     "data": {
      "text/plain": [
       "['toothbrush']"
      ]
     },
     "execution_count": 230,
     "metadata": {},
     "output_type": "execute_result"
    }
   ],
   "source": [
    "b['电动牙刷']"
   ]
  },
  {
   "cell_type": "code",
   "execution_count": null,
   "metadata": {},
   "outputs": [],
   "source": []
  }
 ],
 "metadata": {
  "kernelspec": {
   "display_name": "Python 3",
   "language": "python",
   "name": "python3"
  },
  "language_info": {
   "codemirror_mode": {
    "name": "ipython",
    "version": 3
   },
   "file_extension": ".py",
   "mimetype": "text/x-python",
   "name": "python",
   "nbconvert_exporter": "python",
   "pygments_lexer": "ipython3",
   "version": "3.7.4"
  }
 },
 "nbformat": 4,
 "nbformat_minor": 2
}
